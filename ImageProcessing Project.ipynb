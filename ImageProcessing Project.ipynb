{
 "cells": [
  {
   "cell_type": "code",
   "execution_count": null,
   "metadata": {},
   "outputs": [],
   "source": [
    "import base64\n",
    "import io\n",
    "import numpy as np\n",
    "import matplotlib.image as mpimg\n",
    "\n",
    "from imageio import imread\n",
    "import matplotlib.pyplot as plt"
   ]
  },
  {
   "cell_type": "code",
   "execution_count": null,
   "metadata": {},
   "outputs": [],
   "source": [
    "encodedd = base64.b64encode(img.read())\n",
    "decoded =base64.decodebytes(encodedd)"
   ]
  },
  {
   "cell_type": "code",
   "execution_count": null,
   "metadata": {},
   "outputs": [],
   "source": [
    "def Resize(mat,new_x,new_y):\n",
    "    x,y,z =np.shape(mat)\n",
    "    RR = x/new_x\n",
    "    CR = y/new_y\n",
    "    newmat = np.zeros((new_x,new_y,z))\n",
    "    for i in range(1,new_x+1):\n",
    "        old_x = round(i*RR)\n",
    "        if old_x == 0:\n",
    "            old_x = 1\n",
    "        for j in range(1,new_y+1):\n",
    "            old_y = round(j*CR)\n",
    "            if old_y == 0:\n",
    "                old_y = 1\n",
    "            for k in range(z):\n",
    "                newmat[i-1][j-1][k]=mat[old_x-1][old_y-1][k]\n",
    "    return np.uint(newmat) "
   ]
  },
  {
   "cell_type": "code",
   "execution_count": null,
   "metadata": {},
   "outputs": [],
   "source": [
    "def grayImageAvg(mat):\n",
    "    if len(mat.shape)==2:\n",
    "        return mat\n",
    "    R = mat[:,:,0]\n",
    "    G = mat[:,:,1]\n",
    "    B = mat[:,:,2]\n",
    "    gray = (1/3) *R + (1/3) * G + (1/3) * B\n",
    "    return np.uint8(gray)"
   ]
  },
  {
   "cell_type": "code",
   "execution_count": null,
   "metadata": {},
   "outputs": [],
   "source": [
    "def grayImage2(mat):\n",
    "    if len(mat.shape)==2:\n",
    "        return mat\n",
    "    R = mat[:,:,0]\n",
    "    G = mat[:,:,1]\n",
    "    B = mat[:,:,2]\n",
    "    gray = 0.2989 * R + 0.5870 * G + 0.1140 * B\n",
    "    return np.uint8(gray)"
   ]
  },
  {
   "cell_type": "code",
   "execution_count": null,
   "metadata": {},
   "outputs": [],
   "source": [
    "def grayImageDec(mat):\n",
    "    if len(mat.shape)==2:\n",
    "        return mat\n",
    "    R = mat[:,:,0]\n",
    "    G = mat[:,:,1]\n",
    "    B = mat[:,:,2]\n",
    "    gray = min(R,G,B)\n",
    "    return np.uint8(gray)"
   ]
  },
  {
   "cell_type": "code",
   "execution_count": null,
   "metadata": {},
   "outputs": [],
   "source": [
    "def hist(mat):\n",
    "    graymat = grayImage2(mat);\n",
    "    counter = np.zeros(255)\n",
    "    x,y= graymat.shape\n",
    "    for i in range(x):\n",
    "            for j in range(y):\n",
    "                counter[int(graymat[i,j])] = counter[int(graymat[i,j])]+1\n",
    "    return counter\n",
    "fig = plt.figure()\n",
    "#fig.bar(range(255), hist(img))\n",
    "#fig.add_subplot(plt.plot(hist(img)))\n",
    "plt.plot(hist(img))\n",
    "#fig = plt.gcf()\n",
    "\n",
    "#plt.savefig('foo.pdf')"
   ]
  },
  {
   "cell_type": "code",
   "execution_count": null,
   "metadata": {},
   "outputs": [],
   "source": [
    "def Contrast(mat,newMin=0,newMax=255):\n",
    "    graymat = grayImage2(mat)\n",
    "    x,y= graymat.shape\n",
    "    res=np.zeros(shape=(x,y))\n",
    "    oldMin=graymat[:,:].min()\n",
    "    oldMax=graymat[:,:].max()\n",
    "    res = ( ( (graymat - oldMin) / (oldMax - oldMin) ) * (newMax - newMin) ) + newMin;\n",
    "    res=np.clip(res,0,255)\n",
    "    return res "
   ]
  },
  {
   "cell_type": "code",
   "execution_count": null,
   "metadata": {},
   "outputs": [],
   "source": [
    "def bright(mat,off):\n",
    "    x,y,_= mat.shape\n",
    "    res=np.array(mat+off)  \n",
    "    res=np.clip(res,0,255)\n",
    "    return res\n",
    "img=bright(img,50)\n",
    "plt.imshow(img)"
   ]
  },
  {
   "cell_type": "code",
   "execution_count": null,
   "metadata": {},
   "outputs": [],
   "source": [
    "def powerLow(mat,G):\n",
    "    res=np.power(mat,G)\n",
    "    res = Contrast(res,0,255)\n",
    "    return res"
   ]
  },
  {
   "cell_type": "code",
   "execution_count": null,
   "metadata": {},
   "outputs": [],
   "source": [
    "def add(m,n):\n",
    "    m = grayImage2(m)\n",
    "    n = grayImage2(n)\n",
    "    x1,y1 = m.shape\n",
    "    x2,y2 = n.shape\n",
    "    max_x = max(x1,x2)\n",
    "    max_y = max(y1,y2)\n",
    "    min_x = min(x1,x2)\n",
    "    min_y = min(y1,y2)\n",
    "    res = np.zeros ((max_x,max_y))\n",
    "    if x1>=x2:\n",
    "        res[x2:x1,:min_y] = m[x2:x1,:min_y]\n",
    "    else:\n",
    "        res[x1:x2,:min_y] = n[x1:x2,:min_y]\n",
    "    if y1>=y2:\n",
    "        res[:min_x,y2:y1] = m[:min_x,y2:y1]\n",
    "    else:\n",
    "        res[:min_x,y1:y2] = n[:min_x,y1:y2]\n",
    "    res[:min_x,:min_y] = m[:min_x,:min_y] + n[:min_x,:min_y]\n",
    "    res[-1,-1] = np.mean([m[-1,-1],n[-1,-1]])\n",
    "    res\n",
    "    res=np.clip(res,0,255)\n",
    "    return res"
   ]
  },
  {
   "cell_type": "code",
   "execution_count": null,
   "metadata": {},
   "outputs": [],
   "source": [
    "x1,y1 = m.shape[:2]\n",
    "x2,y2 = n.shape[:2]\n",
    "max_x = max(x1,x2)\n",
    "max_y = max(y1,y2)\n",
    "min_x = min(x1,x2)\n",
    "min_y = min(y1,y2)\n",
    "res = np.zeros ((max_x,max_y))\n",
    "m =np.pad(m, (max_x-x1,max_y-y1),'constant',constant_values=(0,0))\n",
    "n =np.pad(n, (max_x-x2,max_y-y2), 'constant',constant_values=(0,0))\n",
    "res=m+n"
   ]
  },
  {
   "cell_type": "code",
   "execution_count": null,
   "metadata": {},
   "outputs": [],
   "source": [
    "def sub(mat1,mat2):\n",
    "    res = mat1-mat2\n",
    "    res=np.clip(res,0,255)\n",
    "    return res"
   ]
  },
  {
   "cell_type": "code",
   "execution_count": null,
   "metadata": {},
   "outputs": [],
   "source": [
    "def negative(mat1):\n",
    "    res = 255-mat1\n",
    "    return res"
   ]
  },
  {
   "cell_type": "code",
   "execution_count": null,
   "metadata": {},
   "outputs": [],
   "source": [
    "def Qunt(mat,k):\n",
    "    mat=grayImage2(mat)\n",
    "    if(k==8):\n",
    "        return mat\n",
    "    grayLevel = 2**k\n",
    "    g = 256/(grayLevel)\n",
    "    g2 = 255/(grayLevel-1)\n",
    "    temp = mat/g\n",
    "    indx = np.floor(temp)\n",
    "    newimg = indx*g2\n",
    "    return np.uint8(newimg)"
   ]
  },
  {
   "cell_type": "code",
   "execution_count": null,
   "metadata": {},
   "outputs": [],
   "source": [
    "def smoothAvgZeroPaddF(mat,filter_size):\n",
    "    filterHalf=np.floor(filter_size/2)\n",
    "    mat = grayImage2(mat)\n",
    "    xo,yo = mat.shape\n",
    "    temp = []\n",
    "    img =np.pad(mat, (int(filter_size/2),int(filter_size/2)),'constant',constant_values=(0,0))\n",
    "    x,y = img.shape\n",
    "    filterP2=filter_size**2\n",
    "    newimg=np.zeros([x,y])\n",
    "    newimg=np.int32(newimg)\n",
    "    for i in range(x):\n",
    "        print(i)\n",
    "        for j in range(y):\n",
    "            if(i-x+filterHalf>=0 or j-y+filterHalf>=0 or i<filterHalf or j<filterHalf):\n",
    "                newimg[i,j] = img[i,j]\n",
    "            else:\n",
    "                newimg[i,j] +=np.sum(img[i-int(filterHalf):i+int(filterHalf)+1,j-int(filterHalf):j+int(filterHalf)+1])\n",
    "                newimg[i,j] *=1/filterP2\n",
    "    newimg=np.clip(newimg,0,255)\n",
    "    return np.uint8(newimg)"
   ]
  },
  {
   "cell_type": "code",
   "execution_count": null,
   "metadata": {},
   "outputs": [],
   "source": [
    "def smoothAvgRepPaddF(mat,filter_size):\n",
    "    filterHalf=np.floor(filter_size/2)\n",
    "    mat = grayImage2(mat)\n",
    "    xo,yo = mat.shape\n",
    "    img =np.pad(mat, (int(filter_size/2),int(filter_size/2)), mode='edge')\n",
    "    x,y = img.shape\n",
    "    filterP2=filter_size**2\n",
    "    newimg=np.zeros([x,y])\n",
    "    newimg=np.int32(newimg)\n",
    "    for i in range(x):\n",
    "        print(i)\n",
    "        for j in range(y):\n",
    "            if(i-x+filterHalf>=0 or j-y+filterHalf>=0 or i<filterHalf or j<filterHalf):\n",
    "                newimg[i,j] = img[i,j]\n",
    "            else:\n",
    "                newimg[i,j] +=np.sum(img[i-int(filterHalf):i+int(filterHalf)+1,j-int(filterHalf):j+int(filterHalf)+1])\n",
    "                newimg[i,j] *=1/filterP2\n",
    "    newimg=np.clip(newimg,0,255)\n",
    "    return np.uint8(newimg)"
   ]
  },
  {
   "cell_type": "code",
   "execution_count": null,
   "metadata": {},
   "outputs": [],
   "source": [
    "def smoothMin(mat,filter_size):\n",
    "    filterHalf=np.floor(filter_size/2)\n",
    "    mat = grayImage2(mat)\n",
    "    xo,yo = mat.shape\n",
    "    temp = []\n",
    "    img =np.pad(mat, (int(filter_size/2),int(filter_size/2)), mode='edge')\n",
    "    x,y = img.shape\n",
    "    filterP2=filter_size**2\n",
    "    newimg=np.zeros([x,y])\n",
    "    newimg=np.int32(newimg)\n",
    "    for i in range(x):\n",
    "        print(i)\n",
    "        for j in range(y):\n",
    "            if(i-x+filterHalf>=0 or j-y+filterHalf>=0 or i<filterHalf or j<filterHalf):\n",
    "                newimg[i,j] = img[i,j]\n",
    "            else:\n",
    "                temp = img[i-int(filterHalf):i+int(filterHalf)+1,j-int(filterHalf):j+int(filterHalf)+1]\n",
    "                newimg[i,j] = np.min(temp)\n",
    "    newimg=np.clip(newimg,0,255)\n",
    "    return np.uint8(newimg)"
   ]
  },
  {
   "cell_type": "code",
   "execution_count": null,
   "metadata": {},
   "outputs": [],
   "source": [
    "def smoothMax(mat,filter_size):\n",
    "    filterHalf=np.floor(filter_size/2)\n",
    "    mat = grayImage2(mat)\n",
    "    xo,yo = mat.shape\n",
    "    temp = []\n",
    "    img =np.pad(mat, (int(filter_size/2),int(filter_size/2)), mode='edge')\n",
    "    x,y = img.shape\n",
    "    filterP2=filter_size**2\n",
    "    newimg=np.zeros([x,y])\n",
    "    newimg=np.int32(newimg)\n",
    "    for i in range(x):\n",
    "        print(i)\n",
    "        for j in range(y):\n",
    "            if(i-x+filterHalf>=0 or j-y+filterHalf>=0 or i<filterHalf or j<filterHalf):\n",
    "                newimg[i,j] = img[i,j]\n",
    "            else:\n",
    "                temp = img[i-int(filterHalf):i+int(filterHalf)+1,j-int(filterHalf):j+int(filterHalf)+1]\n",
    "                newimg[i,j] = np.max(temp)\n",
    "    newimg=np.clip(newimg,0,255)\n",
    "    return np.uint8(newimg)"
   ]
  },
  {
   "cell_type": "code",
   "execution_count": null,
   "metadata": {},
   "outputs": [],
   "source": [
    "def smoothMedian(mat,filter_size):\n",
    "    filterHalf=np.floor(filter_size/2)\n",
    "    mat = grayImage2(mat)\n",
    "    xo,yo = mat.shape\n",
    "    temp = []\n",
    "    img =np.pad(mat, (int(filter_size/2),int(filter_size/2)), mode='edge')\n",
    "    x,y = img.shape\n",
    "    filterP2=filter_size**2\n",
    "    newimg=np.zeros([x,y])\n",
    "    newimg=np.int32(newimg)\n",
    "    for i in range(x):\n",
    "        print(i)\n",
    "        for j in range(y):\n",
    "            if(i-x+filterHalf>=0 or j-y+filterHalf>=0 or i<filterHalf or j<filterHalf):\n",
    "                newimg[i,j] = img[i,j]\n",
    "            else:\n",
    "                temp = img[i-int(filterHalf):i+int(filterHalf)+1,j-int(filterHalf):j+int(filterHalf)+1]\n",
    "                newimg[i,j] = np.median(temp)\n",
    "    newimg=np.clip(newimg,0,255)\n",
    "    return np.uint8(newimg)"
   ]
  },
  {
   "cell_type": "code",
   "execution_count": null,
   "metadata": {},
   "outputs": [],
   "source": [
    "def smoothMidPoint(mat,filter_size):\n",
    "    filterHalf=np.floor(filter_size/2)\n",
    "    mat = grayImage2(mat)\n",
    "    xo,yo = mat.shape\n",
    "    temp = []\n",
    "    img =np.pad(mat, (int(filter_size/2),int(filter_size/2)), mode='edge')\n",
    "    x,y = img.shape\n",
    "    filterP2=filter_size**2\n",
    "    newimg=np.zeros([x,y])\n",
    "    newimg=np.int32(newimg)\n",
    "    for i in range(x):\n",
    "        print(i)\n",
    "        for j in range(y):\n",
    "            if(i-x+filterHalf>=0 or j-y+filterHalf>=0 or i<filterHalf or j<filterHalf):\n",
    "                newimg[i,j] = img[i,j]\n",
    "            else:\n",
    "                temp = img[i-int(filterHalf):i+int(filterHalf)+1,j-int(filterHalf):j+int(filterHalf)+1]\n",
    "                newimg[i,j] = (np.max(temp)/2 + np.min(temp)/2)\n",
    "    newimg=np.clip(newimg,0,255)\n",
    "    return np.uint8(newimg)"
   ]
  },
  {
   "cell_type": "code",
   "execution_count": null,
   "metadata": {},
   "outputs": [],
   "source": [
    "def smoothGauss(mat,sigma):\n",
    "    n = int(3.7*sigma -0.5)\n",
    "    filter_size = 2*n +1\n",
    "    mat = grayImage2(mat)\n",
    "    xo,yo = mat.shape\n",
    "    filterHalf=int(np.floor(filter_size/2))\n",
    "    img =np.pad(mat, (int(filter_size/2),int(filter_size/2)), mode='edge')\n",
    "    x,y = img.shape\n",
    "    newimg=np.zeros([x,y])\n",
    "    newimg=np.int32(newimg)\n",
    "    Filter = np.zeros((filter_size,filter_size))\n",
    "    for i in range(filter_size):\n",
    "        for j in range(filter_size):\n",
    "            xfilter = np.linspace(-(filter_size // 2),filter_size // 2, filter_size)\n",
    "            yfilter = np.linspace(-(filter_size // 2),filter_size // 2, filter_size)\n",
    "            Filter[i,j] = (1/(2*np.pi*sigma**2)) * np.exp(-1*(xfilter[i]**2+yfilter[j]**2)/(2*sigma**2))\n",
    "    for i in range(x):\n",
    "        print(i)\n",
    "        for j in range(y):\n",
    "            if(i-x+filterHalf>=0 or j-y+filterHalf>=0 or i<filterHalf or j<filterHalf):\n",
    "                newimg[i,j] = img[i,j]\n",
    "            else:\n",
    "                newimg[i,j] = np.sum(np.multiply(img[i-int(filterHalf):i+int(filterHalf)+1,j-int(filterHalf):j+int(filterHalf)+1],Filter))\n",
    "    newimg=np.clip(newimg,0,255)\n",
    "    return np.uint8(newimg)"
   ]
  },
  {
   "cell_type": "code",
   "execution_count": null,
   "metadata": {},
   "outputs": [],
   "source": [
    "from sklearn import preprocessing\n",
    "def edgeDetection(mat):\n",
    "    mat = grayImage2(mat)\n",
    "    x, y = mat.shape\n",
    "    newimg=np.full((x,y),255)\n",
    "    newimg=np.int32(newimg)\n",
    "    for i in range(x):\n",
    "        for j in range(y):\n",
    "            if(i==0 or j==0 or i==x-1 or j==y-1):\n",
    "                newimg[i,j] = mat[i,j]\n",
    "            else:\n",
    "                newimg[i ,j] =(-1*mat[i+1,j]-1*mat[i-1,j]- 1*mat[i,j+1] - 1*mat[i,j-1] +4*mat[i,j])           \n",
    "    newimg = newimg/255\n",
    "    newimg = preprocessing.normalize(newimg)\n",
    "    newimg*=255\n",
    "    #newimg=np.clip(newimg,0,255)\n",
    "    return np.uint8(newimg)"
   ]
  },
  {
   "cell_type": "code",
   "execution_count": null,
   "metadata": {},
   "outputs": [],
   "source": [
    "def Sharp(mat,sharping_rate=1):\n",
    "    mat = grayImage2(mat)\n",
    "    x,y = mat.shape\n",
    "    newimg=np.full((x,y),0)\n",
    "    newimg=np.int32(newimg)\n",
    "    for i in range(1,x-1):\n",
    "        for j in range(1,y-1):\n",
    "            if(i==0 or j==0 or i==x-1 or j==y-1):\n",
    "                newimg[i,j] = mat[i,j]\n",
    "            else:\n",
    "                res = sharping_rate*(-1*mat[i+1,j]-mat[i-1,j]-mat[i,j+1] - mat[i,j-1] +4*mat[i,j])\n",
    "                newimg[i ,j] = mat[i,j]+ res\n",
    "    newimg=np.clip(newimg,0,255)\n",
    "    return np.uint8(newimg)"
   ]
  },
  {
   "cell_type": "code",
   "execution_count": null,
   "metadata": {},
   "outputs": [],
   "source": [
    "def unSharpe(mat):\n",
    "    newimg = mat + smoothGauss(mat,2)\n",
    "    newimg=np.clip(newimg,0,255)\n",
    "    return np.uint8(newimg)    "
   ]
  },
  {
   "cell_type": "code",
   "execution_count": null,
   "metadata": {},
   "outputs": [],
   "source": [
    "def lowIdealFilter(mat,D0=1):\n",
    "    img = grayImage2(mat)\n",
    "    x,y = img.shape\n",
    "    FT_img = np.fft.fft2(img)\n",
    "    newimg = np.zeros((x,y))\n",
    "    u = np.arange(0,x)\n",
    "    idx = np.where( u > x/2)\n",
    "    u[idx] = u[idx]-x\n",
    "    v = np.arange(0,y)\n",
    "    idy = np.where( v > y/2)\n",
    "    v[idy] = v[idy]-y\n",
    "    V, U = np.meshgrid(v, u)\n",
    "    D = np.sqrt(U**2+V**2);\n",
    "    H = (D <= D0)\n",
    "    G = H*FT_img\n",
    "    newimg = np.real(np.fft.ifft2(G))\n",
    "    return newimg"
   ]
  },
  {
   "cell_type": "code",
   "execution_count": null,
   "metadata": {},
   "outputs": [],
   "source": [
    "def lowButterworthFilter(mat,D0=1,n=1):\n",
    "    img = grayImage2(mat)\n",
    "    x,y = img.shape\n",
    "    FT_img = np.fft.fft2(img)\n",
    "    newimg = np.zeros((x,y))\n",
    "    u = np.arange(0,x)\n",
    "    idx = np.where( u > x/2)\n",
    "    u[idx] = u[idx]-x\n",
    "    v = np.arange(0,y)\n",
    "    idy = np.where( v > y/2)\n",
    "    v[idy] = v[idy]-y\n",
    "    V, U = np.meshgrid(v, u)\n",
    "    D = np.sqrt(U**2+V**2);\n",
    "    H = 1 / (1+(D/D0)**(2*n))\n",
    "    G = H*FT_img\n",
    "    newimg = np.real(np.fft.ifft2(G))\n",
    "    return newimg"
   ]
  },
  {
   "cell_type": "code",
   "execution_count": null,
   "metadata": {},
   "outputs": [],
   "source": [
    "def lowGaussianFilter(mat,D0=1):\n",
    "    img = grayImage2(mat)\n",
    "    x,y = img.shape\n",
    "    FT_img = np.fft.fft2(img)\n",
    "    newimg = np.zeros((x,y))\n",
    "    u = np.arange(0,x)\n",
    "    idx = np.where( u > x/2)\n",
    "    u[idx] = u[idx]-x\n",
    "    v = np.arange(0,y)\n",
    "    idy = np.where( v > y/2)\n",
    "    v[idy] = v[idy]-y\n",
    "    V, U = np.meshgrid(v, u)\n",
    "    D = np.sqrt(U**2+V**2);\n",
    "    H = np.exp(-(D**2)/(2*(D0**2)))\n",
    "    G = H * FT_img\n",
    "    newimg = np.real(np.fft.ifft2(G))\n",
    "    return newimg"
   ]
  },
  {
   "cell_type": "code",
   "execution_count": null,
   "metadata": {},
   "outputs": [],
   "source": [
    "def highIdealFilter(mat,D0=1):\n",
    "    img = grayImage2(mat)\n",
    "    x,y = img.shape\n",
    "    FT_img = np.fft.fft2(img)\n",
    "    newimg = np.zeros((x,y))\n",
    "    u = np.arange(0,x)\n",
    "    idx = np.where( u > x/2)\n",
    "    u[idx] = u[idx]-x\n",
    "    v = np.arange(0,y)\n",
    "    idy = np.where( v > y/2)\n",
    "    v[idy] = v[idy]-y\n",
    "    V, U = np.meshgrid(v, u)\n",
    "    D = np.sqrt(U**2+V**2);\n",
    "    H = (D <= D0)\n",
    "    H = 1-H\n",
    "    G = H*FT_img\n",
    "    newimg = np.real(np.fft.ifft2(G))\n",
    "    return newimg"
   ]
  },
  {
   "cell_type": "code",
   "execution_count": null,
   "metadata": {},
   "outputs": [],
   "source": [
    "def highButterworthFilter(mat,D0=1,n=1):\n",
    "    img = grayImage2(mat)\n",
    "    x,y = img.shape\n",
    "    FT_img = np.fft.fft2(img)\n",
    "    newimg = np.zeros((x,y))\n",
    "    u = np.arange(0,x)\n",
    "    idx = np.where( u > x/2)\n",
    "    u[idx] = u[idx]-x\n",
    "    v = np.arange(0,y)\n",
    "    idy = np.where( v > y/2)\n",
    "    v[idy] = v[idy]-y\n",
    "    V, U = np.meshgrid(v, u)\n",
    "    D = np.sqrt(U**2+V**2);\n",
    "    H = 1 / (1+(D0/D)**(2*n))\n",
    "    G = H*FT_img\n",
    "    newimg = np.real(np.fft.ifft2(G))\n",
    "    return newimg"
   ]
  },
  {
   "cell_type": "code",
   "execution_count": null,
   "metadata": {},
   "outputs": [],
   "source": [
    "def highGaussianFilter(mat,D0=1):\n",
    "    img = grayImage2(mat)\n",
    "    x,y = img.shape\n",
    "    FT_img = np.fft.fft2(img)\n",
    "    newimg = np.zeros((x,y))\n",
    "    u = np.arange(0,x)\n",
    "    idx = np.where( u > x/2)\n",
    "    u[idx] = u[idx]-x\n",
    "    v = np.arange(0,y)\n",
    "    idy = np.where( v > y/2)\n",
    "    v[idy] = v[idy]-y\n",
    "    V, U = np.meshgrid(v, u)\n",
    "    D = np.sqrt(U**2+V**2);\n",
    "    H = 1-np.exp(-(D**2)/(2*(D0**2)))\n",
    "    G = H * FT_img\n",
    "    newimg = np.real(np.fft.ifft2(G))\n",
    "    return newimg"
   ]
  },
  {
   "cell_type": "code",
   "execution_count": null,
   "metadata": {},
   "outputs": [],
   "source": [
    "def saltPaper(img,max=255):\n",
    "    img=np.uint32(img)\n",
    "    saltPaperImg=np.random.randint(max+1,size=img.shape)\n",
    "    saltPaperImg[(saltPaperImg>0) &  (saltPaperImg<max)]=1\n",
    "    saltPaperImg[(saltPaperImg==max)]=255\n",
    "    new=np.zeros(img.shape)\n",
    "    new=np.uint32(new)\n",
    "    new=np.multiply(img,saltPaperImg)\n",
    "    new=np.clip(new,0,255)\n",
    "    return new"
   ]
  },
  {
   "cell_type": "code",
   "execution_count": null,
   "metadata": {},
   "outputs": [],
   "source": [
    "def noisy(image):\n",
    "    row,col= image.shape\n",
    "    mean = 0\n",
    "    var = 0.1\n",
    "    sigma = var**0.5\n",
    "    gauss = np.random.normal(mean,sigma,(row,col))\n",
    "    gauss = gauss.reshape(row,col)\n",
    "    noisy = image + gauss\n",
    "    return noisy\n",
    "new = noisy(img)"
   ]
  },
  {
   "cell_type": "code",
   "execution_count": null,
   "metadata": {},
   "outputs": [],
   "source": [
    "from skimage.util import random_noise"
   ]
  },
  {
   "cell_type": "code",
   "execution_count": null,
   "metadata": {},
   "outputs": [],
   "source": [
    "def geoMeanFilter(mat,filter_size):\n",
    "    filterHalf=np.floor(filter_size/2)\n",
    "    mat = grayImage2(mat)\n",
    "    xo,yo = mat.shape\n",
    "    img =np.pad(mat, (int(filter_size/2),int(filter_size/2)), mode='edge')\n",
    "    img=np.uint32(img)\n",
    "    x,y = img.shape\n",
    "    filterP2=filter_size**2\n",
    "    newimg=np.ones([x,y],np.uint64)\n",
    "    for i in range(x):\n",
    "        print(i)\n",
    "        for j in range(y):\n",
    "            if(i-x+filterHalf>=0 or j-y+filterHalf>=0 or i<filterHalf or j<filterHalf):\n",
    "                newimg[i,j] = img[i,j]\n",
    "            else:\n",
    "                newimg[i, j] = np.prod(img[i-int(filterHalf):i+int(filterHalf)+1,j-int(filterHalf):j+int(filterHalf)+1]**(1/(filter_size**2)))\n",
    "    newimg=np.clip(newimg,0,255)\n",
    "    return np.uint8(newimg)\n",
    "plt.figure()\n",
    "plt.imshow(geoMeanFilter(img,30),cmap='gray')"
   ]
  }
 ],
 "metadata": {
  "kernelspec": {
   "display_name": "Python 3 (ipykernel)",
   "language": "python",
   "name": "python3"
  },
  "language_info": {
   "codemirror_mode": {
    "name": "ipython",
    "version": 3
   },
   "file_extension": ".py",
   "mimetype": "text/x-python",
   "name": "python",
   "nbconvert_exporter": "python",
   "pygments_lexer": "ipython3",
   "version": "3.9.7"
  }
 },
 "nbformat": 4,
 "nbformat_minor": 2
}
